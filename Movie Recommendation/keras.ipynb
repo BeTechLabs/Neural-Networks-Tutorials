{
 "cells": [
  {
   "cell_type": "markdown",
   "metadata": {
    "colab_type": "text",
    "id": "woRiQh6kJlT2"
   },
   "source": [
    "# SETTING UP MY ENVIRONMENT"
   ]
  },
  {
   "cell_type": "markdown",
   "metadata": {
    "colab_type": "text",
    "id": "Awn-SvRuJ1t6"
   },
   "source": [
    "## Download necessary modules\n",
    "\n",
    "In this notebook, we are going to use several Python3 modules:\n",
    "- [numpy](https://render.githubusercontent.com/view/www.numpy.org) is the fundamental package for scientific computing with Python.\n",
    "- np.random.seed(1234) is used to keep all the random function calls consistent. It will help us grade your work.\n",
    "- [matplotlib](http://matplotlib.org/) is a library to plot graphs in Python.\n",
    "- [pandas](https://pandas.pydata.org) is an open source, easy-to-use data structures and data analysis tools for the Python programming language.\n",
    "- [Keras](https://keras.io/) is a high-level neural networks API, written in Python and capable of running on top of TensorFlow.\n",
    "- [wordcloud](https://github.com/amueller/word_cloud) is an opensource cloud generator module in Python.\n",
    "In the following cell, we are going to install **wordcloud** module as an example"
   ]
  },
  {
   "cell_type": "code",
   "execution_count": 5,
   "metadata": {
    "colab": {
     "base_uri": "https://localhost:8080/",
     "height": 173
    },
    "colab_type": "code",
    "collapsed": false,
    "executionInfo": {
     "elapsed": 3389,
     "status": "ok",
     "timestamp": 1536851405870,
     "user": {
      "displayName": "Mohamed Anwarvic",
      "photoUrl": "//lh6.googleusercontent.com/-OHSrOWEL0mI/AAAAAAAAAAI/AAAAAAAACXk/Ln3944Dyb2M/s50-c-k-no/photo.jpg",
      "userId": "114162544457272524138"
     },
     "user_tz": -120
    },
    "id": "RYP6XHfEJ_tX",
    "outputId": "8b817aec-4398-4045-be1b-e217d496926c"
   },
   "outputs": [
    {
     "name": "stdout",
     "output_type": "stream",
     "text": [
      "Collecting wordcloud\n",
      "\u001b[?25l  Downloading https://files.pythonhosted.org/packages/ae/af/849edf14d573eba9c8082db898ff0d090428d9485371cc4fe21a66717ad2/wordcloud-1.5.0-cp36-cp36m-manylinux1_x86_64.whl (361kB)\n",
      "\u001b[K    100% |████████████████████████████████| 368kB 8.5MB/s \n",
      "\u001b[?25hRequirement already satisfied: pillow in /usr/local/lib/python3.6/dist-packages (from wordcloud) (4.0.0)\n",
      "Requirement already satisfied: numpy>=1.6.1 in /usr/local/lib/python3.6/dist-packages (from wordcloud) (1.14.5)\n",
      "Requirement already satisfied: olefile in /usr/local/lib/python3.6/dist-packages (from pillow->wordcloud) (0.46)\n",
      "Installing collected packages: wordcloud\n",
      "Successfully installed wordcloud-1.5.0\n"
     ]
    }
   ],
   "source": [
    "#install wordCloud\n",
    "!pip install wordcloud"
   ]
  },
  {
   "cell_type": "markdown",
   "metadata": {
    "colab_type": "text",
    "id": "RK0TcQSdJr3L"
   },
   "source": [
    "# Begin Coding"
   ]
  },
  {
   "cell_type": "markdown",
   "metadata": {},
   "source": [
    "In this notebook, we will use a Deep Learning / Neural Network approach that is up and coming with recent development in machine learning and AI technologies. This code is based on the approach outlined in Alkahest's blog post [Collaborative Filtering in Keras](http://www.fenris.org/2016/03/07/index-html) and [James Lee's project](https://github.com/khanhnamle1994/movielens) as well.\n",
    "![Movie Recommendation](static/cover.jpg)"
   ]
  },
  {
   "cell_type": "code",
   "execution_count": 6,
   "metadata": {
    "colab": {
     "base_uri": "https://localhost:8080/",
     "height": 34
    },
    "colab_type": "code",
    "collapsed": false,
    "executionInfo": {
     "elapsed": 9074,
     "status": "ok",
     "timestamp": 1536851415161,
     "user": {
      "displayName": "Mohamed Anwarvic",
      "photoUrl": "//lh6.googleusercontent.com/-OHSrOWEL0mI/AAAAAAAAAAI/AAAAAAAACXk/Ln3944Dyb2M/s50-c-k-no/photo.jpg",
      "userId": "114162544457272524138"
     },
     "user_tz": -120
    },
    "id": "fYhiiFFTJipR",
    "outputId": "f2ea85d5-8fa4-43d9-f421-91dc99ecb04b"
   },
   "outputs": [
    {
     "name": "stderr",
     "output_type": "stream",
     "text": [
      "Using TensorFlow backend.\n"
     ]
    }
   ],
   "source": [
    "import pandas as pd\n",
    "import numpy as np\n",
    "np.random.seed(1234)\n",
    "import matplotlib.pyplot as plt\n",
    "%matplotlib inline\n",
    "import warnings\n",
    "warnings.filterwarnings('ignore')\n",
    "\n",
    "import keras\n",
    "from wordcloud import WordCloud\n",
    "from keras.callbacks import Callback, EarlyStopping, ModelCheckpoint"
   ]
  },
  {
   "cell_type": "markdown",
   "metadata": {
    "colab_type": "text",
    "id": "Nb-HxhRqJipa"
   },
   "source": [
    "# Import data\n",
    "\n",
    "Here, we are going to use a sample of [MovieLens](https://movielens.org) corpus which is run by GroupLens. GroupLens is a research lab at the University of Minnesota, USA. MovieLens is non-commercial, and free of advertisements. MovieLens is considered one of the most common datasets that is available on the internet for building a Recommender Systems. The version of the dataset that we are going to be working with contains 1,000,209 anonymous ratings of approximately 3,900 movies made by 6,040 MovieLens users who joined MovieLens in 2000.\n",
    "Here’s a word-cloud visualization of the movie titles:\n",
    "![MovieLens WordCloud](static/wordcloud.png)\n",
    "Beautiful, isn’t it? I can recognize that there are a lot of movie franchises in this dataset, as evidenced by words like II and III… In addition to that, Day, Love, Life, Time, Night, Man, Dead, American are among the most commonly occuring words.\n",
    "\n",
    "Here’s a distribution of the user ratings:\n",
    "![MovieLens ratings](static/rating.png)\n",
    "It appears that users are quite generous in their ratings. The mean rating is 3.58 on a scale of 5. Half the movies have a rating of 4 and 5. I personally think that a 5-level rating skill wasn’t a good indicator as people could have different rating styles (i.e. person A could always use 4 for an average movie, whereas person B only gives 4 out for their favorites). Each user rated at least 20 movies, so I doubt the distribution could be caused just by chance variance in the quality of movies.\n",
    "Here’s another word-cloud of the movie genres:\n",
    "![MovieLens Genres WordCloud](static/genres.png)\n",
    "The top 5 genres are, in that respect order: Drama, Comedy, Action, Thriller, and Romance."
   ]
  },
  {
   "cell_type": "code",
   "execution_count": 31,
   "metadata": {
    "colab": {
     "base_uri": "https://localhost:8080/",
     "height": 51
    },
    "colab_type": "code",
    "collapsed": false,
    "executionInfo": {
     "elapsed": 7597,
     "status": "ok",
     "timestamp": 1536852214757,
     "user": {
      "displayName": "Mohamed Anwarvic",
      "photoUrl": "//lh6.googleusercontent.com/-OHSrOWEL0mI/AAAAAAAAAAI/AAAAAAAACXk/Ln3944Dyb2M/s50-c-k-no/photo.jpg",
      "userId": "114162544457272524138"
     },
     "user_tz": -120
    },
    "id": "7eRSRMo4Jipb",
    "outputId": "c27cdf0d-7eb1-4a8b-def9-29644fff8db8"
   },
   "outputs": [
    {
     "name": "stdout",
     "output_type": "stream",
     "text": [
      "(1000209, 5)\n",
      "Index(['real_user_id', 'real_movie_id', 'rating', 'user_id', 'movie_id'], dtype='object')\n"
     ]
    }
   ],
   "source": [
    "DIR = 'data'\n",
    "# Reading rating file\n",
    "dataset = pd.read_csv(os.path.join(DIR, \"ratings.zip\"), compression='zip', sep='::', \\\n",
    "                 names=['real_user_id','real_movie_id','rating','timestamp'], header=None, usecols=['real_user_id','real_movie_id','rating'])\n",
    "#Convert user and movie ids from int to categories\n",
    "dataset['user_id'] = dataset['real_user_id'].astype('category').cat.codes.values\n",
    "dataset['movie_id'] = dataset['real_movie_id'].astype('category').cat.codes.values\n",
    "print(dataset.shape)\n",
    "print(dataset.columns)"
   ]
  },
  {
   "cell_type": "code",
   "execution_count": 36,
   "metadata": {
    "colab": {
     "base_uri": "https://localhost:8080/",
     "height": 1969
    },
    "colab_type": "code",
    "collapsed": false,
    "executionInfo": {
     "elapsed": 544,
     "status": "ok",
     "timestamp": 1536852416813,
     "user": {
      "displayName": "Mohamed Anwarvic",
      "photoUrl": "//lh6.googleusercontent.com/-OHSrOWEL0mI/AAAAAAAAAAI/AAAAAAAACXk/Ln3944Dyb2M/s50-c-k-no/photo.jpg",
      "userId": "114162544457272524138"
     },
     "user_tz": -120
    },
    "id": "KBHPX3Rsisd8",
    "outputId": "76b0fd5b-f13a-42e7-a0ad-ca9b55fdba46"
   },
   "outputs": [
    {
     "data": {
      "text/html": [
       "<div>\n",
       "<style scoped>\n",
       "    .dataframe tbody tr th:only-of-type {\n",
       "        vertical-align: middle;\n",
       "    }\n",
       "\n",
       "    .dataframe tbody tr th {\n",
       "        vertical-align: top;\n",
       "    }\n",
       "\n",
       "    .dataframe thead th {\n",
       "        text-align: right;\n",
       "    }\n",
       "</style>\n",
       "<table border=\"1\" class=\"dataframe\">\n",
       "  <thead>\n",
       "    <tr style=\"text-align: right;\">\n",
       "      <th></th>\n",
       "      <th>real_user_id</th>\n",
       "      <th>real_movie_id</th>\n",
       "      <th>rating</th>\n",
       "      <th>user_id</th>\n",
       "      <th>movie_id</th>\n",
       "    </tr>\n",
       "  </thead>\n",
       "  <tbody>\n",
       "    <tr>\n",
       "      <th>0</th>\n",
       "      <td>1</td>\n",
       "      <td>1193</td>\n",
       "      <td>5</td>\n",
       "      <td>0</td>\n",
       "      <td>1104</td>\n",
       "    </tr>\n",
       "    <tr>\n",
       "      <th>1</th>\n",
       "      <td>1</td>\n",
       "      <td>661</td>\n",
       "      <td>3</td>\n",
       "      <td>0</td>\n",
       "      <td>639</td>\n",
       "    </tr>\n",
       "    <tr>\n",
       "      <th>2</th>\n",
       "      <td>1</td>\n",
       "      <td>914</td>\n",
       "      <td>3</td>\n",
       "      <td>0</td>\n",
       "      <td>853</td>\n",
       "    </tr>\n",
       "    <tr>\n",
       "      <th>3</th>\n",
       "      <td>1</td>\n",
       "      <td>3408</td>\n",
       "      <td>4</td>\n",
       "      <td>0</td>\n",
       "      <td>3177</td>\n",
       "    </tr>\n",
       "    <tr>\n",
       "      <th>4</th>\n",
       "      <td>1</td>\n",
       "      <td>2355</td>\n",
       "      <td>5</td>\n",
       "      <td>0</td>\n",
       "      <td>2162</td>\n",
       "    </tr>\n",
       "    <tr>\n",
       "      <th>5</th>\n",
       "      <td>1</td>\n",
       "      <td>1197</td>\n",
       "      <td>3</td>\n",
       "      <td>0</td>\n",
       "      <td>1107</td>\n",
       "    </tr>\n",
       "    <tr>\n",
       "      <th>6</th>\n",
       "      <td>1</td>\n",
       "      <td>1287</td>\n",
       "      <td>5</td>\n",
       "      <td>0</td>\n",
       "      <td>1195</td>\n",
       "    </tr>\n",
       "    <tr>\n",
       "      <th>7</th>\n",
       "      <td>1</td>\n",
       "      <td>2804</td>\n",
       "      <td>5</td>\n",
       "      <td>0</td>\n",
       "      <td>2599</td>\n",
       "    </tr>\n",
       "    <tr>\n",
       "      <th>8</th>\n",
       "      <td>1</td>\n",
       "      <td>594</td>\n",
       "      <td>4</td>\n",
       "      <td>0</td>\n",
       "      <td>580</td>\n",
       "    </tr>\n",
       "    <tr>\n",
       "      <th>9</th>\n",
       "      <td>1</td>\n",
       "      <td>919</td>\n",
       "      <td>4</td>\n",
       "      <td>0</td>\n",
       "      <td>858</td>\n",
       "    </tr>\n",
       "    <tr>\n",
       "      <th>10</th>\n",
       "      <td>1</td>\n",
       "      <td>595</td>\n",
       "      <td>5</td>\n",
       "      <td>0</td>\n",
       "      <td>581</td>\n",
       "    </tr>\n",
       "    <tr>\n",
       "      <th>11</th>\n",
       "      <td>1</td>\n",
       "      <td>938</td>\n",
       "      <td>4</td>\n",
       "      <td>0</td>\n",
       "      <td>877</td>\n",
       "    </tr>\n",
       "    <tr>\n",
       "      <th>12</th>\n",
       "      <td>1</td>\n",
       "      <td>2398</td>\n",
       "      <td>4</td>\n",
       "      <td>0</td>\n",
       "      <td>2205</td>\n",
       "    </tr>\n",
       "    <tr>\n",
       "      <th>13</th>\n",
       "      <td>1</td>\n",
       "      <td>2918</td>\n",
       "      <td>4</td>\n",
       "      <td>0</td>\n",
       "      <td>2710</td>\n",
       "    </tr>\n",
       "    <tr>\n",
       "      <th>14</th>\n",
       "      <td>1</td>\n",
       "      <td>1035</td>\n",
       "      <td>5</td>\n",
       "      <td>0</td>\n",
       "      <td>970</td>\n",
       "    </tr>\n",
       "    <tr>\n",
       "      <th>15</th>\n",
       "      <td>1</td>\n",
       "      <td>2791</td>\n",
       "      <td>4</td>\n",
       "      <td>0</td>\n",
       "      <td>2586</td>\n",
       "    </tr>\n",
       "    <tr>\n",
       "      <th>16</th>\n",
       "      <td>1</td>\n",
       "      <td>2687</td>\n",
       "      <td>3</td>\n",
       "      <td>0</td>\n",
       "      <td>2483</td>\n",
       "    </tr>\n",
       "    <tr>\n",
       "      <th>17</th>\n",
       "      <td>1</td>\n",
       "      <td>2018</td>\n",
       "      <td>4</td>\n",
       "      <td>0</td>\n",
       "      <td>1838</td>\n",
       "    </tr>\n",
       "    <tr>\n",
       "      <th>18</th>\n",
       "      <td>1</td>\n",
       "      <td>3105</td>\n",
       "      <td>5</td>\n",
       "      <td>0</td>\n",
       "      <td>2889</td>\n",
       "    </tr>\n",
       "    <tr>\n",
       "      <th>19</th>\n",
       "      <td>1</td>\n",
       "      <td>2797</td>\n",
       "      <td>4</td>\n",
       "      <td>0</td>\n",
       "      <td>2592</td>\n",
       "    </tr>\n",
       "    <tr>\n",
       "      <th>20</th>\n",
       "      <td>1</td>\n",
       "      <td>2321</td>\n",
       "      <td>3</td>\n",
       "      <td>0</td>\n",
       "      <td>2128</td>\n",
       "    </tr>\n",
       "    <tr>\n",
       "      <th>21</th>\n",
       "      <td>1</td>\n",
       "      <td>720</td>\n",
       "      <td>3</td>\n",
       "      <td>0</td>\n",
       "      <td>689</td>\n",
       "    </tr>\n",
       "    <tr>\n",
       "      <th>22</th>\n",
       "      <td>1</td>\n",
       "      <td>1270</td>\n",
       "      <td>5</td>\n",
       "      <td>0</td>\n",
       "      <td>1178</td>\n",
       "    </tr>\n",
       "    <tr>\n",
       "      <th>23</th>\n",
       "      <td>1</td>\n",
       "      <td>527</td>\n",
       "      <td>5</td>\n",
       "      <td>0</td>\n",
       "      <td>513</td>\n",
       "    </tr>\n",
       "    <tr>\n",
       "      <th>24</th>\n",
       "      <td>1</td>\n",
       "      <td>2340</td>\n",
       "      <td>3</td>\n",
       "      <td>0</td>\n",
       "      <td>2147</td>\n",
       "    </tr>\n",
       "    <tr>\n",
       "      <th>25</th>\n",
       "      <td>1</td>\n",
       "      <td>48</td>\n",
       "      <td>5</td>\n",
       "      <td>0</td>\n",
       "      <td>47</td>\n",
       "    </tr>\n",
       "    <tr>\n",
       "      <th>26</th>\n",
       "      <td>1</td>\n",
       "      <td>1097</td>\n",
       "      <td>4</td>\n",
       "      <td>0</td>\n",
       "      <td>1025</td>\n",
       "    </tr>\n",
       "    <tr>\n",
       "      <th>27</th>\n",
       "      <td>1</td>\n",
       "      <td>1721</td>\n",
       "      <td>4</td>\n",
       "      <td>0</td>\n",
       "      <td>1574</td>\n",
       "    </tr>\n",
       "    <tr>\n",
       "      <th>28</th>\n",
       "      <td>1</td>\n",
       "      <td>1545</td>\n",
       "      <td>4</td>\n",
       "      <td>0</td>\n",
       "      <td>1421</td>\n",
       "    </tr>\n",
       "    <tr>\n",
       "      <th>29</th>\n",
       "      <td>1</td>\n",
       "      <td>745</td>\n",
       "      <td>3</td>\n",
       "      <td>0</td>\n",
       "      <td>708</td>\n",
       "    </tr>\n",
       "    <tr>\n",
       "      <th>...</th>\n",
       "      <td>...</td>\n",
       "      <td>...</td>\n",
       "      <td>...</td>\n",
       "      <td>...</td>\n",
       "      <td>...</td>\n",
       "    </tr>\n",
       "    <tr>\n",
       "      <th>1000179</th>\n",
       "      <td>6040</td>\n",
       "      <td>2762</td>\n",
       "      <td>4</td>\n",
       "      <td>6039</td>\n",
       "      <td>2557</td>\n",
       "    </tr>\n",
       "    <tr>\n",
       "      <th>1000180</th>\n",
       "      <td>6040</td>\n",
       "      <td>1036</td>\n",
       "      <td>3</td>\n",
       "      <td>6039</td>\n",
       "      <td>971</td>\n",
       "    </tr>\n",
       "    <tr>\n",
       "      <th>1000181</th>\n",
       "      <td>6040</td>\n",
       "      <td>508</td>\n",
       "      <td>4</td>\n",
       "      <td>6039</td>\n",
       "      <td>494</td>\n",
       "    </tr>\n",
       "    <tr>\n",
       "      <th>1000182</th>\n",
       "      <td>6040</td>\n",
       "      <td>1041</td>\n",
       "      <td>4</td>\n",
       "      <td>6039</td>\n",
       "      <td>976</td>\n",
       "    </tr>\n",
       "    <tr>\n",
       "      <th>1000183</th>\n",
       "      <td>6040</td>\n",
       "      <td>3735</td>\n",
       "      <td>4</td>\n",
       "      <td>6039</td>\n",
       "      <td>3493</td>\n",
       "    </tr>\n",
       "    <tr>\n",
       "      <th>1000184</th>\n",
       "      <td>6040</td>\n",
       "      <td>2791</td>\n",
       "      <td>4</td>\n",
       "      <td>6039</td>\n",
       "      <td>2586</td>\n",
       "    </tr>\n",
       "    <tr>\n",
       "      <th>1000185</th>\n",
       "      <td>6040</td>\n",
       "      <td>2794</td>\n",
       "      <td>1</td>\n",
       "      <td>6039</td>\n",
       "      <td>2589</td>\n",
       "    </tr>\n",
       "    <tr>\n",
       "      <th>1000186</th>\n",
       "      <td>6040</td>\n",
       "      <td>527</td>\n",
       "      <td>5</td>\n",
       "      <td>6039</td>\n",
       "      <td>513</td>\n",
       "    </tr>\n",
       "    <tr>\n",
       "      <th>1000187</th>\n",
       "      <td>6040</td>\n",
       "      <td>2003</td>\n",
       "      <td>1</td>\n",
       "      <td>6039</td>\n",
       "      <td>1823</td>\n",
       "    </tr>\n",
       "    <tr>\n",
       "      <th>1000188</th>\n",
       "      <td>6040</td>\n",
       "      <td>535</td>\n",
       "      <td>4</td>\n",
       "      <td>6039</td>\n",
       "      <td>521</td>\n",
       "    </tr>\n",
       "    <tr>\n",
       "      <th>1000189</th>\n",
       "      <td>6040</td>\n",
       "      <td>2010</td>\n",
       "      <td>5</td>\n",
       "      <td>6039</td>\n",
       "      <td>1830</td>\n",
       "    </tr>\n",
       "    <tr>\n",
       "      <th>1000190</th>\n",
       "      <td>6040</td>\n",
       "      <td>2011</td>\n",
       "      <td>4</td>\n",
       "      <td>6039</td>\n",
       "      <td>1831</td>\n",
       "    </tr>\n",
       "    <tr>\n",
       "      <th>1000191</th>\n",
       "      <td>6040</td>\n",
       "      <td>3751</td>\n",
       "      <td>4</td>\n",
       "      <td>6039</td>\n",
       "      <td>3508</td>\n",
       "    </tr>\n",
       "    <tr>\n",
       "      <th>1000192</th>\n",
       "      <td>6040</td>\n",
       "      <td>2019</td>\n",
       "      <td>5</td>\n",
       "      <td>6039</td>\n",
       "      <td>1839</td>\n",
       "    </tr>\n",
       "    <tr>\n",
       "      <th>1000193</th>\n",
       "      <td>6040</td>\n",
       "      <td>541</td>\n",
       "      <td>4</td>\n",
       "      <td>6039</td>\n",
       "      <td>527</td>\n",
       "    </tr>\n",
       "    <tr>\n",
       "      <th>1000194</th>\n",
       "      <td>6040</td>\n",
       "      <td>1077</td>\n",
       "      <td>5</td>\n",
       "      <td>6039</td>\n",
       "      <td>1005</td>\n",
       "    </tr>\n",
       "    <tr>\n",
       "      <th>1000195</th>\n",
       "      <td>6040</td>\n",
       "      <td>1079</td>\n",
       "      <td>2</td>\n",
       "      <td>6039</td>\n",
       "      <td>1007</td>\n",
       "    </tr>\n",
       "    <tr>\n",
       "      <th>1000196</th>\n",
       "      <td>6040</td>\n",
       "      <td>549</td>\n",
       "      <td>4</td>\n",
       "      <td>6039</td>\n",
       "      <td>535</td>\n",
       "    </tr>\n",
       "    <tr>\n",
       "      <th>1000197</th>\n",
       "      <td>6040</td>\n",
       "      <td>2020</td>\n",
       "      <td>3</td>\n",
       "      <td>6039</td>\n",
       "      <td>1840</td>\n",
       "    </tr>\n",
       "    <tr>\n",
       "      <th>1000198</th>\n",
       "      <td>6040</td>\n",
       "      <td>2021</td>\n",
       "      <td>3</td>\n",
       "      <td>6039</td>\n",
       "      <td>1841</td>\n",
       "    </tr>\n",
       "    <tr>\n",
       "      <th>1000199</th>\n",
       "      <td>6040</td>\n",
       "      <td>2022</td>\n",
       "      <td>5</td>\n",
       "      <td>6039</td>\n",
       "      <td>1842</td>\n",
       "    </tr>\n",
       "    <tr>\n",
       "      <th>1000200</th>\n",
       "      <td>6040</td>\n",
       "      <td>2028</td>\n",
       "      <td>5</td>\n",
       "      <td>6039</td>\n",
       "      <td>1848</td>\n",
       "    </tr>\n",
       "    <tr>\n",
       "      <th>1000201</th>\n",
       "      <td>6040</td>\n",
       "      <td>1080</td>\n",
       "      <td>4</td>\n",
       "      <td>6039</td>\n",
       "      <td>1008</td>\n",
       "    </tr>\n",
       "    <tr>\n",
       "      <th>1000202</th>\n",
       "      <td>6040</td>\n",
       "      <td>1089</td>\n",
       "      <td>4</td>\n",
       "      <td>6039</td>\n",
       "      <td>1017</td>\n",
       "    </tr>\n",
       "    <tr>\n",
       "      <th>1000203</th>\n",
       "      <td>6040</td>\n",
       "      <td>1090</td>\n",
       "      <td>3</td>\n",
       "      <td>6039</td>\n",
       "      <td>1018</td>\n",
       "    </tr>\n",
       "    <tr>\n",
       "      <th>1000204</th>\n",
       "      <td>6040</td>\n",
       "      <td>1091</td>\n",
       "      <td>1</td>\n",
       "      <td>6039</td>\n",
       "      <td>1019</td>\n",
       "    </tr>\n",
       "    <tr>\n",
       "      <th>1000205</th>\n",
       "      <td>6040</td>\n",
       "      <td>1094</td>\n",
       "      <td>5</td>\n",
       "      <td>6039</td>\n",
       "      <td>1022</td>\n",
       "    </tr>\n",
       "    <tr>\n",
       "      <th>1000206</th>\n",
       "      <td>6040</td>\n",
       "      <td>562</td>\n",
       "      <td>5</td>\n",
       "      <td>6039</td>\n",
       "      <td>548</td>\n",
       "    </tr>\n",
       "    <tr>\n",
       "      <th>1000207</th>\n",
       "      <td>6040</td>\n",
       "      <td>1096</td>\n",
       "      <td>4</td>\n",
       "      <td>6039</td>\n",
       "      <td>1024</td>\n",
       "    </tr>\n",
       "    <tr>\n",
       "      <th>1000208</th>\n",
       "      <td>6040</td>\n",
       "      <td>1097</td>\n",
       "      <td>4</td>\n",
       "      <td>6039</td>\n",
       "      <td>1025</td>\n",
       "    </tr>\n",
       "  </tbody>\n",
       "</table>\n",
       "<p>1000209 rows × 5 columns</p>\n",
       "</div>"
      ],
      "text/plain": [
       "         real_user_id  real_movie_id  rating  user_id  movie_id\n",
       "0                   1           1193       5        0      1104\n",
       "1                   1            661       3        0       639\n",
       "2                   1            914       3        0       853\n",
       "3                   1           3408       4        0      3177\n",
       "4                   1           2355       5        0      2162\n",
       "5                   1           1197       3        0      1107\n",
       "6                   1           1287       5        0      1195\n",
       "7                   1           2804       5        0      2599\n",
       "8                   1            594       4        0       580\n",
       "9                   1            919       4        0       858\n",
       "10                  1            595       5        0       581\n",
       "11                  1            938       4        0       877\n",
       "12                  1           2398       4        0      2205\n",
       "13                  1           2918       4        0      2710\n",
       "14                  1           1035       5        0       970\n",
       "15                  1           2791       4        0      2586\n",
       "16                  1           2687       3        0      2483\n",
       "17                  1           2018       4        0      1838\n",
       "18                  1           3105       5        0      2889\n",
       "19                  1           2797       4        0      2592\n",
       "20                  1           2321       3        0      2128\n",
       "21                  1            720       3        0       689\n",
       "22                  1           1270       5        0      1178\n",
       "23                  1            527       5        0       513\n",
       "24                  1           2340       3        0      2147\n",
       "25                  1             48       5        0        47\n",
       "26                  1           1097       4        0      1025\n",
       "27                  1           1721       4        0      1574\n",
       "28                  1           1545       4        0      1421\n",
       "29                  1            745       3        0       708\n",
       "...               ...            ...     ...      ...       ...\n",
       "1000179          6040           2762       4     6039      2557\n",
       "1000180          6040           1036       3     6039       971\n",
       "1000181          6040            508       4     6039       494\n",
       "1000182          6040           1041       4     6039       976\n",
       "1000183          6040           3735       4     6039      3493\n",
       "1000184          6040           2791       4     6039      2586\n",
       "1000185          6040           2794       1     6039      2589\n",
       "1000186          6040            527       5     6039       513\n",
       "1000187          6040           2003       1     6039      1823\n",
       "1000188          6040            535       4     6039       521\n",
       "1000189          6040           2010       5     6039      1830\n",
       "1000190          6040           2011       4     6039      1831\n",
       "1000191          6040           3751       4     6039      3508\n",
       "1000192          6040           2019       5     6039      1839\n",
       "1000193          6040            541       4     6039       527\n",
       "1000194          6040           1077       5     6039      1005\n",
       "1000195          6040           1079       2     6039      1007\n",
       "1000196          6040            549       4     6039       535\n",
       "1000197          6040           2020       3     6039      1840\n",
       "1000198          6040           2021       3     6039      1841\n",
       "1000199          6040           2022       5     6039      1842\n",
       "1000200          6040           2028       5     6039      1848\n",
       "1000201          6040           1080       4     6039      1008\n",
       "1000202          6040           1089       4     6039      1017\n",
       "1000203          6040           1090       3     6039      1018\n",
       "1000204          6040           1091       1     6039      1019\n",
       "1000205          6040           1094       5     6039      1022\n",
       "1000206          6040            562       5     6039       548\n",
       "1000207          6040           1096       4     6039      1024\n",
       "1000208          6040           1097       4     6039      1025\n",
       "\n",
       "[1000209 rows x 5 columns]"
      ]
     },
     "execution_count": 36,
     "metadata": {
      "tags": []
     },
     "output_type": "execute_result"
    }
   ],
   "source": [
    "dataset"
   ]
  },
  {
   "cell_type": "code",
   "execution_count": 32,
   "metadata": {
    "colab": {
     "base_uri": "https://localhost:8080/",
     "height": 51
    },
    "colab_type": "code",
    "collapsed": false,
    "executionInfo": {
     "elapsed": 551,
     "status": "ok",
     "timestamp": 1536852228559,
     "user": {
      "displayName": "Mohamed Anwarvic",
      "photoUrl": "//lh6.googleusercontent.com/-OHSrOWEL0mI/AAAAAAAAAAI/AAAAAAAACXk/Ln3944Dyb2M/s50-c-k-no/photo.jpg",
      "userId": "114162544457272524138"
     },
     "user_tz": -120
    },
    "id": "1DlRuQwAo8Jd",
    "outputId": "64aba201-7293-48df-c3d6-5eb5e683bef9"
   },
   "outputs": [
    {
     "name": "stdout",
     "output_type": "stream",
     "text": [
      "(3883, 3)\n",
      "Index(['movie_id', 'title', 'genres'], dtype='object')\n"
     ]
    }
   ],
   "source": [
    "# Reading movies file\n",
    "movies = pd.read_csv(os.path.join(DIR, 'movies.dat'), sep='::', encoding='latin-1', \n",
    "                     names=['movie_id', 'title', 'genres'], header=None)\n",
    "\n",
    "print(movies.shape)\n",
    "print(movies.columns)"
   ]
  },
  {
   "cell_type": "code",
   "execution_count": 0,
   "metadata": {
    "colab": {},
    "colab_type": "code",
    "collapsed": true,
    "id": "sXIrVyevJipo"
   },
   "outputs": [],
   "source": [
    "from sklearn.model_selection import train_test_split\n",
    "train, test = train_test_split(dataset, test_size=0.2)"
   ]
  },
  {
   "cell_type": "markdown",
   "metadata": {
    "colab_type": "text",
    "id": "iLnC4Bk5Jipu"
   },
   "source": [
    "# Build model\n",
    "\n",
    "The idea of using deep learning is similar to that of Model-Based Matrix Factorization. In matrix factorization, we decompose our original sparse matrix into product of 2 low rank orthogonal matrices. For deep learning implementation, we don’t need them to be orthogonal, we want our model to learn the values of embedding matrix itself. The user latent features and movie latent features are looked up from the embedding matrices for specific movie-user combination. These are the input values for further linear and non-linear layers. We can pass this input to multiple relu, linear or sigmoid layers and learn the corresponding weights by any optimization algorithm (Adam, SGD, etc.).\n",
    "\n",
    "Here are the main components of my neural network:\n",
    "![Model](static/embedding-layers.png)\n",
    "\n",
    "- A left embedding layer that creates a Users by Latent Factors matrix.\n",
    "- A right embedding layer that creates a Movies by Latent Factors matrix.\n",
    "- When the input to these layers are (i) a user id and (ii) a movie id, they’ll return the latent factor vectors for the user and the movie, respectively.\n",
    "- A merge layer that takes the dot product of these two latent vectors to return the predicted rating.\n",
    "\n",
    "\n",
    "I then compile the model using Mean Squared Error (MSE) as the loss function and the AdaMax learning algorithm."
   ]
  },
  {
   "cell_type": "code",
   "execution_count": 0,
   "metadata": {
    "colab": {},
    "colab_type": "code",
    "collapsed": true,
    "id": "bkntj-pfJip1"
   },
   "outputs": [],
   "source": [
    "def buildNN(n_users, n_movies, n_latent_factors):\n",
    "    movie_input = keras.layers.Input(shape=[1],name='Item')\n",
    "    movie_embedding = keras.layers.Embedding(n_movies + 1, n_latent_factors, name='Movie-Embedding')(movie_input)\n",
    "    movie_vec = keras.layers.Flatten(name='FlattenMovies')(movie_embedding)\n",
    "\n",
    "    user_input = keras.layers.Input(shape=[1],name='User')\n",
    "    user_embedding = keras.layers.Embedding(n_users + 1, n_latent_factors,name='User-Embedding')(user_input)\n",
    "    user_vec = keras.layers.Flatten(name='FlattenUsers')(user_embedding)\n",
    "\n",
    "    prod = keras.layers.dot([movie_vec, user_vec], axes= 1, name='DotProduct')\n",
    "    model = keras.Model([user_input, movie_input], prod)\n",
    "    # model.compile('adam', 'mean_squared_error')\n",
    "    model.compile(loss='mse', optimizer='adamax')\n",
    "    return model"
   ]
  },
  {
   "cell_type": "code",
   "execution_count": 0,
   "metadata": {
    "colab": {},
    "colab_type": "code",
    "collapsed": true,
    "id": "IJTsipZWJip8"
   },
   "outputs": [],
   "source": [
    "n_users, n_movies = len(dataset.user_id.unique()), len(dataset.movie_id.unique())\n",
    "n_latent_factors = 500\n",
    "\n",
    "model=buildNN(n_users, n_movies, n_latent_factors)"
   ]
  },
  {
   "cell_type": "code",
   "execution_count": 0,
   "metadata": {
    "colab": {},
    "colab_type": "code",
    "collapsed": true,
    "id": "c91jAKEUJiqD"
   },
   "outputs": [],
   "source": [
    "# SVG(model_to_dot(model, show_shapes=True, show_layer_names=True, rankdir='HB').create(prog='dot', format='svg'))"
   ]
  },
  {
   "cell_type": "code",
   "execution_count": 14,
   "metadata": {
    "colab": {
     "base_uri": "https://localhost:8080/",
     "height": 391
    },
    "colab_type": "code",
    "collapsed": false,
    "executionInfo": {
     "elapsed": 582,
     "status": "ok",
     "timestamp": 1536851434010,
     "user": {
      "displayName": "Mohamed Anwarvic",
      "photoUrl": "//lh6.googleusercontent.com/-OHSrOWEL0mI/AAAAAAAAAAI/AAAAAAAACXk/Ln3944Dyb2M/s50-c-k-no/photo.jpg",
      "userId": "114162544457272524138"
     },
     "user_tz": -120
    },
    "id": "cu5WIP1SJiqI",
    "outputId": "09da4461-a90c-4404-caa7-a5573e075cf4"
   },
   "outputs": [
    {
     "name": "stdout",
     "output_type": "stream",
     "text": [
      "__________________________________________________________________________________________________\n",
      "Layer (type)                    Output Shape         Param #     Connected to                     \n",
      "==================================================================================================\n",
      "Item (InputLayer)               (None, 1)            0                                            \n",
      "__________________________________________________________________________________________________\n",
      "User (InputLayer)               (None, 1)            0                                            \n",
      "__________________________________________________________________________________________________\n",
      "Movie-Embedding (Embedding)     (None, 1, 500)       1853500     Item[0][0]                       \n",
      "__________________________________________________________________________________________________\n",
      "User-Embedding (Embedding)      (None, 1, 500)       3020500     User[0][0]                       \n",
      "__________________________________________________________________________________________________\n",
      "FlattenMovies (Flatten)         (None, 500)          0           Movie-Embedding[0][0]            \n",
      "__________________________________________________________________________________________________\n",
      "FlattenUsers (Flatten)          (None, 500)          0           User-Embedding[0][0]             \n",
      "__________________________________________________________________________________________________\n",
      "DotProduct (Dot)                (None, 1)            0           FlattenMovies[0][0]              \n",
      "                                                                 FlattenUsers[0][0]               \n",
      "==================================================================================================\n",
      "Total params: 4,874,000\n",
      "Trainable params: 4,874,000\n",
      "Non-trainable params: 0\n",
      "__________________________________________________________________________________________________\n"
     ]
    }
   ],
   "source": [
    "model.summary()"
   ]
  },
  {
   "cell_type": "code",
   "execution_count": 0,
   "metadata": {
    "colab": {},
    "colab_type": "code",
    "collapsed": true,
    "id": "7rg3F7_PJiqR"
   },
   "outputs": [],
   "source": [
    "# Callbacks monitor the validation loss# Callb \n",
    "# Save the model weights each time the validation loss has improved\n",
    "callbacks = [EarlyStopping('val_loss', patience=2), \n",
    "             ModelCheckpoint('weights.h5', save_best_only=True)]\n",
    "\n",
    "\n",
    "history = model.fit([train.user_id, train.movie_id], train.rating, epochs=10, validation_split=0.2, verbose=2, callbacks=callbacks)"
   ]
  },
  {
   "cell_type": "code",
   "execution_count": 0,
   "metadata": {
    "colab": {},
    "colab_type": "code",
    "collapsed": true,
    "id": "JvWwvzS8JiqW"
   },
   "outputs": [],
   "source": [
    "# Show the best validation MAE\n",
    "min_val_loss, idx = min((val, idx) for (idx, val) in enumerate(history.history['val_loss']))\n",
    "print ('Minimum RMSE at epoch', '{:d}'.format(idx+1), '=', '{:.4f}'.format(abs(min_val_loss)))"
   ]
  },
  {
   "cell_type": "code",
   "execution_count": 0,
   "metadata": {
    "colab": {},
    "colab_type": "code",
    "collapsed": true,
    "id": "_QK96iMMJiqb"
   },
   "outputs": [],
   "source": [
    "pd.Series(history.history['loss']).plot(logy=True)\n",
    "plt.xlabel(\"Epoch\")\n",
    "plt.ylabel(\"Train Error\")"
   ]
  },
  {
   "cell_type": "code",
   "execution_count": 0,
   "metadata": {
    "colab": {},
    "colab_type": "code",
    "collapsed": true,
    "id": "uE1QNjxIJiql"
   },
   "outputs": [],
   "source": [
    "model.load_weights('weights.h5')\n",
    "y_hat = np.round(model.predict([test.user_id, test.movie_id]), 0)\n",
    "y_true = test.rating # discrete values from 1 to 5"
   ]
  },
  {
   "cell_type": "code",
   "execution_count": 19,
   "metadata": {
    "colab": {
     "base_uri": "https://localhost:8080/",
     "height": 187
    },
    "colab_type": "code",
    "collapsed": false,
    "executionInfo": {
     "elapsed": 719,
     "status": "ok",
     "timestamp": 1536851454120,
     "user": {
      "displayName": "Mohamed Anwarvic",
      "photoUrl": "//lh6.googleusercontent.com/-OHSrOWEL0mI/AAAAAAAAAAI/AAAAAAAACXk/Ln3944Dyb2M/s50-c-k-no/photo.jpg",
      "userId": "114162544457272524138"
     },
     "user_tz": -120
    },
    "id": "Tvt1TxQIJiqs",
    "outputId": "07e4169d-ad65-4a4a-cadd-bccd75481d84"
   },
   "outputs": [
    {
     "name": "stdout",
     "output_type": "stream",
     "text": [
      "Predicted: 3.0 \tTrue: 4\n",
      "Predicted: 4.0 \tTrue: 5\n",
      "Predicted: 2.0 \tTrue: 2\n",
      "Predicted: 4.0 \tTrue: 4\n",
      "Predicted: 5.0 \tTrue: 5\n",
      "Predicted: 4.0 \tTrue: 5\n",
      "Predicted: 3.0 \tTrue: 3\n",
      "Predicted: 4.0 \tTrue: 5\n",
      "Predicted: 4.0 \tTrue: 4\n",
      "Predicted: 3.0 \tTrue: 2\n"
     ]
    }
   ],
   "source": [
    "#see the first 10 entries\n",
    "for i, j in zip(y_hat[:10], y_true[:10]):\n",
    "    print(\"Predicted:\", i[0], \"\\tTrue:\", j)"
   ]
  },
  {
   "cell_type": "markdown",
   "metadata": {},
   "source": [
    "## The Evaluation\n",
    "\n",
    "During the training process above, I saved the model weights each time the validation loss has improved. Thus, I can use that value to calculate the best validation Root Mean Square Error."
   ]
  },
  {
   "cell_type": "code",
   "execution_count": 20,
   "metadata": {
    "colab": {
     "base_uri": "https://localhost:8080/",
     "height": 34
    },
    "colab_type": "code",
    "collapsed": false,
    "executionInfo": {
     "elapsed": 597,
     "status": "ok",
     "timestamp": 1536851455206,
     "user": {
      "displayName": "Mohamed Anwarvic",
      "photoUrl": "//lh6.googleusercontent.com/-OHSrOWEL0mI/AAAAAAAAAAI/AAAAAAAACXk/Ln3944Dyb2M/s50-c-k-no/photo.jpg",
      "userId": "114162544457272524138"
     },
     "user_tz": -120
    },
    "id": "0T404mDFJiq_",
    "outputId": "9b53f1b3-6b8c-4ab4-d730-31ac2052e338"
   },
   "outputs": [
    {
     "data": {
      "text/plain": [
       "0.49482108757161"
      ]
     },
     "execution_count": 20,
     "metadata": {
      "tags": []
     },
     "output_type": "execute_result"
    }
   ],
   "source": [
    "from sklearn.metrics import mean_absolute_error\n",
    "# mean_absolute_error(y_true[0:10], y_hat[0:10])\n",
    "mean_absolute_error(y_true, y_hat)"
   ]
  },
  {
   "cell_type": "markdown",
   "metadata": {
    "colab_type": "text",
    "id": "e5XmpiwvwXSO"
   },
   "source": [
    "## The Recommendation"
   ]
  },
  {
   "cell_type": "code",
   "execution_count": 37,
   "metadata": {
    "colab": {
     "base_uri": "https://localhost:8080/",
     "height": 510
    },
    "colab_type": "code",
    "collapsed": false,
    "executionInfo": {
     "elapsed": 624,
     "status": "ok",
     "timestamp": 1536852498377,
     "user": {
      "displayName": "Mohamed Anwarvic",
      "photoUrl": "//lh6.googleusercontent.com/-OHSrOWEL0mI/AAAAAAAAAAI/AAAAAAAACXk/Ln3944Dyb2M/s50-c-k-no/photo.jpg",
      "userId": "114162544457272524138"
     },
     "user_tz": -120
    },
    "id": "VuzSKfFmxncc",
    "outputId": "578ed851-35c7-44c9-8e58-b4d6667ef87c"
   },
   "outputs": [
    {
     "data": {
      "text/plain": [
       "[2064,\n",
       " 595,\n",
       " 2080,\n",
       " 919,\n",
       " 3094,\n",
       " 2138,\n",
       " 2139,\n",
       " 1196,\n",
       " 1527,\n",
       " 316,\n",
       " 35,\n",
       " 48,\n",
       " 58,\n",
       " 1200,\n",
       " 1211,\n",
       " 1214,\n",
       " 1215,\n",
       " 1264,\n",
       " 1265,\n",
       " 1274,\n",
       " 2657,\n",
       " 2662,\n",
       " 471,\n",
       " 2355,\n",
       " 2390,\n",
       " 2700,\n",
       " 1046,\n",
       " 2018,\n",
       " 541]"
      ]
     },
     "execution_count": 37,
     "metadata": {
      "tags": []
     },
     "output_type": "execute_result"
    }
   ],
   "source": [
    "#helper functino\n",
    "def get_movie_ids(userID, rating):\n",
    "    \"\"\"\n",
    "    This method takes a user id and rating and returns\n",
    "    data frame contains only the movies ids that the \n",
    "    user has watched and rated the given rating\n",
    "    \"\"\"\n",
    "    real_user_id = dataset.loc[(dataset['user_id'] == userID)]['real_user_id'].iloc[0]\n",
    "    df = dataset.loc[(dataset['real_user_id'] == real_user_id)]\n",
    "    return list(df[dataset['rating']== rating]['real_movie_id'])\n",
    "\n",
    "get_movie_ids(5555, 5)"
   ]
  },
  {
   "cell_type": "code",
   "execution_count": 38,
   "metadata": {
    "colab": {
     "base_uri": "https://localhost:8080/",
     "height": 54
    },
    "colab_type": "code",
    "collapsed": false,
    "executionInfo": {
     "elapsed": 518,
     "status": "ok",
     "timestamp": 1536852536329,
     "user": {
      "displayName": "Mohamed Anwarvic",
      "photoUrl": "//lh6.googleusercontent.com/-OHSrOWEL0mI/AAAAAAAAAAI/AAAAAAAACXk/Ln3944Dyb2M/s50-c-k-no/photo.jpg",
      "userId": "114162544457272524138"
     },
     "user_tz": -120
    },
    "id": "vdkOPuAnxL5U",
    "outputId": "32fc5c19-67fd-4108-e74b-d7a13e9741ca"
   },
   "outputs": [
    {
     "data": {
      "text/plain": [
       "\"Comedy Documentary Animation Children's Musical Animation Children's Comedy Musical Romance Adventure Children's Drama Musical Drama Romance Animation Children's Drama Fantasy Animation Children's Action Adventure Drama Sci-Fi War Action Sci-Fi Action Adventure Sci-Fi Drama Romance Animation Children's Musical Romance Drama Romance Action Sci-Fi Thriller War Comedy Drama Romance Action Horror Sci-Fi Thriller Action Adventure Comedy Horror Sci-Fi Action Drama Mystery Romance Thriller Comedy Romance Adventure Animation Sci-Fi Thriller Comedy Horror Musical Sci-Fi Action Sci-Fi War Comedy Romance Animation Children's Comedy Comedy Animation Comedy Drama Romance Animation Children's Film-Noir Sci-Fi\""
      ]
     },
     "execution_count": 38,
     "metadata": {
      "tags": []
     },
     "output_type": "execute_result"
    }
   ],
   "source": [
    "#helper function\n",
    "def get_movies_genres(movie_ids):\n",
    "    \"\"\"\n",
    "    This method takes a list of movie ids and return their\n",
    "    genres combines in a one text\n",
    "    \"\"\"\n",
    "    genres = []\n",
    "    for movie_id in movie_ids:\n",
    "        genres.extend(list(movies[movies['movie_id']==movie_id]['genres'])[0].split('|'))\n",
    "    return ' '.join(genres)\n",
    "\n",
    "get_movies_genres(get_movie_ids(5555, 5))"
   ]
  },
  {
   "cell_type": "code",
   "execution_count": 0,
   "metadata": {
    "colab": {},
    "colab_type": "code",
    "collapsed": true,
    "id": "BTmcHd4Jw51j"
   },
   "outputs": [],
   "source": [
    "def recommend_movies(userID):\n",
    "    #----- wordcloud of user movies -----\n",
    "    user_genres = get_movies_genres(get_movie_ids(userID, rating=5))\n",
    "    wordcloud = WordCloud().generate(user_genres)\n",
    "    plt.imshow(wordcloud, interpolation='bilinear')\n",
    "    plt.axis(\"off\")\n",
    "    plt.show()\n",
    "    #------------------------------------\n",
    "    predictedRatingsDF=pd.DataFrame(columns=['movie_id','rating'])\n",
    "    for movie_id in list(set(dataset.movie_id)):\n",
    "        predictedRating = model.predict([np.array([userID]),np.array([movie_id])])[0][0]\n",
    "        real_movie_id = dataset.loc[(dataset['movie_id'] == movie_id)]['real_movie_id'].iloc[0]\n",
    "        predictedRatingsDF.loc[predictedRatingsDF.shape[0]]=pd.Series({\"movie_id\":real_movie_id,\n",
    "                                                                       \"rating\":predictedRating})\n",
    "    df = predictedRatingsDF.sort_values(by=['rating'], ascending=False).reset_index(drop=True)[:20]\n",
    "    #----- wordcloud of recommended movies -----\n",
    "    text = get_movies_genres(list(df['movie_id']))\n",
    "    wordcloud = WordCloud().generate(text)\n",
    "    plt.imshow(wordcloud, interpolation='bilinear')\n",
    "    plt.axis(\"off\")\n",
    "    plt.show()\n",
    "    #-------------------------------------------\n",
    "    return df"
   ]
  },
  {
   "cell_type": "code",
   "execution_count": 61,
   "metadata": {
    "colab": {
     "base_uri": "https://localhost:8080/",
     "height": 1073
    },
    "colab_type": "code",
    "collapsed": false,
    "executionInfo": {
     "elapsed": 18832,
     "status": "ok",
     "timestamp": 1536853966481,
     "user": {
      "displayName": "Mohamed Anwarvic",
      "photoUrl": "//lh6.googleusercontent.com/-OHSrOWEL0mI/AAAAAAAAAAI/AAAAAAAACXk/Ln3944Dyb2M/s50-c-k-no/photo.jpg",
      "userId": "114162544457272524138"
     },
     "user_tz": -120
    },
    "id": "SejDA7wIJirD",
    "outputId": "abb6fde5-6b6c-44c4-c21b-aa5f50d19994"
   },
   "outputs": [
    {
     "data": {
      "image/png": "[encoded data removed]",
      "text/plain": [
       "<matplotlib.figure.Figure at 0x7f9e5b65f160>"
      ]
     },
     "metadata": {
      "tags": []
     },
     "output_type": "display_data"
    },
    {
     "data": {
      "image/png": "[encoded data removed]",
      "text/plain": [
       "<matplotlib.figure.Figure at 0x7f9e5b7c9518>"
      ]
     },
     "metadata": {
      "tags": []
     },
     "output_type": "display_data"
    },
    {
     "data": {
      "text/html": [
       "<div>\n",
       "<style scoped>\n",
       "    .dataframe tbody tr th:only-of-type {\n",
       "        vertical-align: middle;\n",
       "    }\n",
       "\n",
       "    .dataframe tbody tr th {\n",
       "        vertical-align: top;\n",
       "    }\n",
       "\n",
       "    .dataframe thead th {\n",
       "        text-align: right;\n",
       "    }\n",
       "</style>\n",
       "<table border=\"1\" class=\"dataframe\">\n",
       "  <thead>\n",
       "    <tr style=\"text-align: right;\">\n",
       "      <th></th>\n",
       "      <th>movie_id</th>\n",
       "      <th>rating</th>\n",
       "    </tr>\n",
       "  </thead>\n",
       "  <tbody>\n",
       "    <tr>\n",
       "      <th>0</th>\n",
       "      <td>2858.0</td>\n",
       "      <td>4.740695</td>\n",
       "    </tr>\n",
       "    <tr>\n",
       "      <th>1</th>\n",
       "      <td>1197.0</td>\n",
       "      <td>4.578429</td>\n",
       "    </tr>\n",
       "    <tr>\n",
       "      <th>2</th>\n",
       "      <td>2324.0</td>\n",
       "      <td>4.558189</td>\n",
       "    </tr>\n",
       "    <tr>\n",
       "      <th>3</th>\n",
       "      <td>318.0</td>\n",
       "      <td>4.548954</td>\n",
       "    </tr>\n",
       "    <tr>\n",
       "      <th>4</th>\n",
       "      <td>2997.0</td>\n",
       "      <td>4.521115</td>\n",
       "    </tr>\n",
       "    <tr>\n",
       "      <th>5</th>\n",
       "      <td>50.0</td>\n",
       "      <td>4.474805</td>\n",
       "    </tr>\n",
       "    <tr>\n",
       "      <th>6</th>\n",
       "      <td>1136.0</td>\n",
       "      <td>4.460687</td>\n",
       "    </tr>\n",
       "    <tr>\n",
       "      <th>7</th>\n",
       "      <td>2329.0</td>\n",
       "      <td>4.445384</td>\n",
       "    </tr>\n",
       "    <tr>\n",
       "      <th>8</th>\n",
       "      <td>2762.0</td>\n",
       "      <td>4.418952</td>\n",
       "    </tr>\n",
       "    <tr>\n",
       "      <th>9</th>\n",
       "      <td>593.0</td>\n",
       "      <td>4.384685</td>\n",
       "    </tr>\n",
       "    <tr>\n",
       "      <th>10</th>\n",
       "      <td>3897.0</td>\n",
       "      <td>4.381485</td>\n",
       "    </tr>\n",
       "    <tr>\n",
       "      <th>11</th>\n",
       "      <td>527.0</td>\n",
       "      <td>4.365636</td>\n",
       "    </tr>\n",
       "    <tr>\n",
       "      <th>12</th>\n",
       "      <td>608.0</td>\n",
       "      <td>4.363481</td>\n",
       "    </tr>\n",
       "    <tr>\n",
       "      <th>13</th>\n",
       "      <td>3911.0</td>\n",
       "      <td>4.349372</td>\n",
       "    </tr>\n",
       "    <tr>\n",
       "      <th>14</th>\n",
       "      <td>1222.0</td>\n",
       "      <td>4.346123</td>\n",
       "    </tr>\n",
       "    <tr>\n",
       "      <th>15</th>\n",
       "      <td>1148.0</td>\n",
       "      <td>4.333889</td>\n",
       "    </tr>\n",
       "    <tr>\n",
       "      <th>16</th>\n",
       "      <td>2959.0</td>\n",
       "      <td>4.311108</td>\n",
       "    </tr>\n",
       "    <tr>\n",
       "      <th>17</th>\n",
       "      <td>2905.0</td>\n",
       "      <td>4.283123</td>\n",
       "    </tr>\n",
       "    <tr>\n",
       "      <th>18</th>\n",
       "      <td>750.0</td>\n",
       "      <td>4.272872</td>\n",
       "    </tr>\n",
       "    <tr>\n",
       "      <th>19</th>\n",
       "      <td>260.0</td>\n",
       "      <td>4.270880</td>\n",
       "    </tr>\n",
       "  </tbody>\n",
       "</table>\n",
       "</div>"
      ],
      "text/plain": [
       "    movie_id    rating\n",
       "0     2858.0  4.740695\n",
       "1     1197.0  4.578429\n",
       "2     2324.0  4.558189\n",
       "3      318.0  4.548954\n",
       "4     2997.0  4.521115\n",
       "5       50.0  4.474805\n",
       "6     1136.0  4.460687\n",
       "7     2329.0  4.445384\n",
       "8     2762.0  4.418952\n",
       "9      593.0  4.384685\n",
       "10    3897.0  4.381485\n",
       "11     527.0  4.365636\n",
       "12     608.0  4.363481\n",
       "13    3911.0  4.349372\n",
       "14    1222.0  4.346123\n",
       "15    1148.0  4.333889\n",
       "16    2959.0  4.311108\n",
       "17    2905.0  4.283123\n",
       "18     750.0  4.272872\n",
       "19     260.0  4.270880"
      ]
     },
     "execution_count": 61,
     "metadata": {
      "tags": []
     },
     "output_type": "execute_result"
    }
   ],
   "source": [
    "recommend_movies(userID = 666)"
   ]
  },
  {
   "cell_type": "code",
   "execution_count": 0,
   "metadata": {
    "colab": {},
    "colab_type": "code",
    "collapsed": true,
    "id": "bEcOylZfJirT"
   },
   "outputs": [],
   "source": []
  }
 ],
 "metadata": {
  "accelerator": "GPU",
  "colab": {
   "collapsed_sections": [],
   "name": "keras.ipynb",
   "provenance": [],
   "version": "0.3.2"
  },
  "kernelspec": {
   "display_name": "Python 3",
   "language": "python",
   "name": "python3"
  },
  "language_info": {
   "codemirror_mode": {
    "name": "ipython",
    "version": 3
   },
   "file_extension": ".py",
   "mimetype": "text/x-python",
   "name": "python",
   "nbconvert_exporter": "python",
   "pygments_lexer": "ipython3",
   "version": "3.6.0"
  }
 },
 "nbformat": 4,
 "nbformat_minor": 0
}
